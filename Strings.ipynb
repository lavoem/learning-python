{
 "cells": [
  {
   "cell_type": "markdown",
   "metadata": {},
   "source": [
    "### 1"
   ]
  },
  {
   "cell_type": "code",
   "execution_count": 1,
   "metadata": {},
   "outputs": [
    {
     "name": "stdout",
     "output_type": "stream",
     "text": [
      "Emma\n",
      "2022\n",
      "Vienna, VA\n",
      "It's a good skill and I need something to do in quarantine\n"
     ]
    }
   ],
   "source": [
    "name = \"Emma\"\n",
    "year = \"2022\"\n",
    "hometown = \"Vienna, VA\"\n",
    "reason = \"It's a good skill and I need something to do in quarantine\"\n",
    "\n",
    "print(name)\n",
    "print(year)\n",
    "print(hometown)\n",
    "print(reason)"
   ]
  },
  {
   "cell_type": "markdown",
   "metadata": {},
   "source": [
    "### 2"
   ]
  },
  {
   "cell_type": "code",
   "execution_count": 50,
   "metadata": {},
   "outputs": [
    {
     "ename": "SyntaxError",
     "evalue": "unexpected character after line continuation character (<ipython-input-50-21587eae5cc9>, line 1)",
     "output_type": "error",
     "traceback": [
      "\u001b[0;36m  File \u001b[0;32m\"<ipython-input-50-21587eae5cc9>\"\u001b[0;36m, line \u001b[0;32m1\u001b[0m\n\u001b[0;31m    lineone = \"This is how you print a double quote (\\\"), a backslash (\\\\), and a lowercase o with a stroke (~~o~~). \\n A tab and a new line are printed using a \"\\t\" and \"\\n\" respectively.\"\u001b[0m\n\u001b[0m                                                                                                                                                                                             ^\u001b[0m\n\u001b[0;31mSyntaxError\u001b[0m\u001b[0;31m:\u001b[0m unexpected character after line continuation character\n"
     ]
    }
   ],
   "source": [
    "lineone = \"This is how you print a double quote (\\\"), a backslash (\\\\), and a lowercase o with a stroke (~~o~~). \\n A tab and a new line are printed using a \"\\t\" and \"\\n\" respectively.\"\n",
    "\n",
    "print(lineone)"
   ]
  },
  {
   "cell_type": "code",
   "execution_count": 13,
   "metadata": {},
   "outputs": [
    {
     "name": "stdout",
     "output_type": "stream",
     "text": [
      "This is how you print a double quote (\"), a backslash (\\), and a lowercase o with a stroke (ø). \n",
      "A tab and a new line are printed using a '\\t' and '\\n' respectively. \n"
     ]
    }
   ],
   "source": [
    "lineone = \"This is how you print a double quote (\\\"), a backslash (\\\\), and a lowercase o with a stroke (ø). \\nA tab and a new line are printed using a \\'\\\\t\\' and \\'\\\\n\\' respectively. \"\n",
    "\n",
    "print(lineone)"
   ]
  },
  {
   "cell_type": "code",
   "execution_count": 15,
   "metadata": {},
   "outputs": [
    {
     "ename": "SyntaxError",
     "evalue": "unexpected character after line continuation character (<ipython-input-15-36f53b937b23>, line 1)",
     "output_type": "error",
     "traceback": [
      "\u001b[0;36m  File \u001b[0;32m\"<ipython-input-15-36f53b937b23>\"\u001b[0;36m, line \u001b[0;32m1\u001b[0m\n\u001b[0;31m    line = \"u\"\\u00F8\"\u001b[0m\n\u001b[0m                     ^\u001b[0m\n\u001b[0;31mSyntaxError\u001b[0m\u001b[0;31m:\u001b[0m unexpected character after line continuation character\n"
     ]
    }
   ],
   "source": []
  },
  {
   "cell_type": "markdown",
   "metadata": {},
   "source": [
    "### 3"
   ]
  },
  {
   "cell_type": "code",
   "execution_count": 12,
   "metadata": {},
   "outputs": [
    {
     "name": "stdout",
     "output_type": "stream",
     "text": [
      "super-duper-duper-duper-duper-duper-duper-duper-duper-duper-duper-fun\n"
     ]
    }
   ],
   "source": [
    "print((\"super\")+(\"-duper\"*10)+(\"-fun\"))\n",
    "\n"
   ]
  },
  {
   "cell_type": "code",
   "execution_count": 13,
   "metadata": {},
   "outputs": [
    {
     "name": "stdout",
     "output_type": "stream",
     "text": [
      "-\n"
     ]
    }
   ],
   "source": [
    "print(((\"super\")+(\"-duper\"*10)+(\"-fun\"))[35])"
   ]
  },
  {
   "cell_type": "code",
   "execution_count": 14,
   "metadata": {},
   "outputs": [
    {
     "name": "stdout",
     "output_type": "stream",
     "text": [
      "r\n"
     ]
    }
   ],
   "source": [
    "print(((\"super\")+(\"-duper\"*10)+(\"-fun\"))[-35])"
   ]
  },
  {
   "cell_type": "markdown",
   "metadata": {},
   "source": [
    "### 4"
   ]
  },
  {
   "cell_type": "code",
   "execution_count": 15,
   "metadata": {},
   "outputs": [
    {
     "data": {
      "text/plain": [
       "47"
      ]
     },
     "execution_count": 15,
     "metadata": {},
     "output_type": "execute_result"
    }
   ],
   "source": [
    "len(\"This is a sentence. \\n How does len do with this\")"
   ]
  },
  {
   "cell_type": "code",
   "execution_count": 18,
   "metadata": {},
   "outputs": [
    {
     "name": "stdout",
     "output_type": "stream",
     "text": [
      "This is a sentence. \n",
      "How does len do with this?\n"
     ]
    }
   ],
   "source": [
    "print(\"This is a sentence. \\nHow does len do with this?\")"
   ]
  },
  {
   "cell_type": "markdown",
   "metadata": {},
   "source": [
    "### 5"
   ]
  },
  {
   "cell_type": "code",
   "execution_count": 19,
   "metadata": {},
   "outputs": [
    {
     "name": "stdout",
     "output_type": "stream",
     "text": [
      "bdfhjln\n"
     ]
    }
   ],
   "source": [
    "print (\"abcdefghijklmnopqrstuvwxyz\"[1:14:2])"
   ]
  },
  {
   "cell_type": "code",
   "execution_count": 26,
   "metadata": {},
   "outputs": [
    {
     "name": "stdout",
     "output_type": "stream",
     "text": [
      "hfd\n"
     ]
    }
   ],
   "source": [
    "print(\"abcdefghijklmnopqrstuvwxyz\"[7:2:-2])"
   ]
  },
  {
   "cell_type": "code",
   "execution_count": 27,
   "metadata": {},
   "outputs": [
    {
     "name": "stdout",
     "output_type": "stream",
     "text": [
      "yvspmj\n"
     ]
    }
   ],
   "source": [
    "print(\"abcdefghijklmnopqrstuvwxyz\"[24:8:-3])"
   ]
  },
  {
   "cell_type": "code",
   "execution_count": 29,
   "metadata": {},
   "outputs": [
    {
     "name": "stdout",
     "output_type": "stream",
     "text": [
      "xr\n"
     ]
    }
   ],
   "source": [
    "print(\"abcdefghijklmnopqrstuvwxyz\"[23:11:-6])"
   ]
  },
  {
   "cell_type": "markdown",
   "metadata": {},
   "source": [
    "### 6"
   ]
  },
  {
   "cell_type": "code",
   "execution_count": 32,
   "metadata": {},
   "outputs": [
    {
     "data": {
      "text/plain": [
       "'Run'"
      ]
     },
     "execution_count": 32,
     "metadata": {},
     "output_type": "execute_result"
    }
   ],
   "source": [
    "\"run\".capitalize()"
   ]
  },
  {
   "cell_type": "code",
   "execution_count": 37,
   "metadata": {},
   "outputs": [
    {
     "name": "stdout",
     "output_type": "stream",
     "text": [
      "       center       \n"
     ]
    }
   ],
   "source": [
    "txt = \"center\"\n",
    "a = txt.center(20)\n",
    "\n",
    "print(a)\n",
    "\n"
   ]
  },
  {
   "cell_type": "code",
   "execution_count": 38,
   "metadata": {},
   "outputs": [
    {
     "name": "stdout",
     "output_type": "stream",
     "text": [
      "1\n"
     ]
    }
   ],
   "source": [
    "txt = \"count this\"\n",
    "a = txt.count(\"this\")\n",
    "\n",
    "print(a)"
   ]
  },
  {
   "cell_type": "code",
   "execution_count": 39,
   "metadata": {},
   "outputs": [
    {
     "name": "stdout",
     "output_type": "stream",
     "text": [
      "False\n"
     ]
    }
   ],
   "source": [
    "txt = \"the chair is blue\"\n",
    "a = txt.endswith(\"is\")\n",
    "\n",
    "print(a)"
   ]
  },
  {
   "cell_type": "code",
   "execution_count": 40,
   "metadata": {},
   "outputs": [
    {
     "name": "stdout",
     "output_type": "stream",
     "text": [
      "4\n"
     ]
    }
   ],
   "source": [
    "txt = \"the tree is growing\"\n",
    "a = txt.find(\"tree\")\n",
    "\n",
    "print(a)"
   ]
  },
  {
   "cell_type": "code",
   "execution_count": 41,
   "metadata": {},
   "outputs": [
    {
     "name": "stdout",
     "output_type": "stream",
     "text": [
      "9\n"
     ]
    }
   ],
   "source": [
    "txt = \"the wind is blowing\"\n",
    "a = txt.index(\"is\")\n",
    "\n",
    "print(a)"
   ]
  },
  {
   "cell_type": "code",
   "execution_count": 43,
   "metadata": {},
   "outputs": [
    {
     "name": "stdout",
     "output_type": "stream",
     "text": [
      "False\n"
     ]
    }
   ],
   "source": [
    "txt = \"there are 3 trees in the yard\"\n",
    "a = txt.isalnum()\n",
    "\n",
    "print(a)"
   ]
  },
  {
   "cell_type": "code",
   "execution_count": 44,
   "metadata": {},
   "outputs": [
    {
     "name": "stdout",
     "output_type": "stream",
     "text": [
      "True\n"
     ]
    }
   ],
   "source": [
    "txt = \"3four\"\n",
    "a = txt.isalnum()\n",
    "\n",
    "print(a)"
   ]
  },
  {
   "cell_type": "code",
   "execution_count": 45,
   "metadata": {},
   "outputs": [
    {
     "name": "stdout",
     "output_type": "stream",
     "text": [
      "SENTENCE WITH WORDS\n"
     ]
    }
   ],
   "source": [
    "txt = \"sentence with words\"\n",
    "a = txt.upper()\n",
    "\n",
    "print(a)"
   ]
  },
  {
   "cell_type": "markdown",
   "metadata": {},
   "source": [
    "### 7"
   ]
  },
  {
   "cell_type": "code",
   "execution_count": 48,
   "metadata": {},
   "outputs": [
    {
     "name": "stdout",
     "output_type": "stream",
     "text": [
      "lavoem01@gettysburg.edu\n"
     ]
    }
   ],
   "source": [
    "firstname = \"emma\"\n",
    "lastname = \"lavoie\"\n",
    "\n",
    "print((lastname[0:4])+(firstname[0:2])+(\"01\")+(\"@gettysburg.edu\"))"
   ]
  },
  {
   "cell_type": "code",
   "execution_count": 49,
   "metadata": {},
   "outputs": [
    {
     "name": "stdout",
     "output_type": "stream",
     "text": [
      "lavem01@gettysburg.edu\n"
     ]
    }
   ],
   "source": [
    "firstname = \"emma\"\n",
    "lastname = \"lav\"\n",
    "\n",
    "print((lastname[0:4])+(firstname[0:2])+(\"01\")+(\"@gettysburg.edu\"))"
   ]
  },
  {
   "cell_type": "code",
   "execution_count": null,
   "metadata": {},
   "outputs": [],
   "source": []
  }
 ],
 "metadata": {
  "kernelspec": {
   "display_name": "Python 3",
   "language": "python",
   "name": "python3"
  },
  "language_info": {
   "codemirror_mode": {
    "name": "ipython",
    "version": 3
   },
   "file_extension": ".py",
   "mimetype": "text/x-python",
   "name": "python",
   "nbconvert_exporter": "python",
   "pygments_lexer": "ipython3",
   "version": "3.7.7"
  }
 },
 "nbformat": 4,
 "nbformat_minor": 4
}
